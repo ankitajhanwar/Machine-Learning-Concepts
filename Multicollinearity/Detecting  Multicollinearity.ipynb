{
 "cells": [
  {
   "cell_type": "markdown",
   "metadata": {},
   "source": [
    "## AIM: How to detect multicollinearity in the given dataset"
   ]
  },
  {
   "cell_type": "code",
   "execution_count": 23,
   "metadata": {},
   "outputs": [],
   "source": [
    "import matplotlib.pyplot as plt\n",
    "import numpy as np\n",
    "import pandas as pd\n",
    "import seaborn as sns\n",
    "import statsmodels.api as sm\n",
    "import warnings\n",
    "from sklearn.preprocessing import StandardScaler\n",
    "from statsmodels.tools.tools import add_constant\n",
    "from statsmodels.stats.outliers_influence import variance_inflation_factor\n",
    "%matplotlib inline\n",
    "np.set_printoptions(precision=4)\n",
    "pd.set_option('display.float_format',None)\n",
    "warnings.filterwarnings('ignore')\n"
   ]
  },
  {
   "cell_type": "code",
   "execution_count": 24,
   "metadata": {},
   "outputs": [],
   "source": [
    "def pretty_print_linear(coefs, names=None, sort=False):\n",
    "    if names is None:\n",
    "        names = [\"X%s\" % x for x in range(len(coefs))]\n",
    "    lst = zip(coefs, names)\n",
    "    if sort:\n",
    "        lst = sorted(lst, key=lambda x: -np.abs(x[0]))\n",
    "    return \" + \".join(\"%s * %s\" % (round(coef, 3), name) for coef, name in lst)"
   ]
  },
  {
   "cell_type": "code",
   "execution_count": 25,
   "metadata": {},
   "outputs": [],
   "source": [
    "def plot_correlation(df, numerical_feature_columns, target, k):\n",
    "    cols = df[numerical_feature_columns].corr().nlargest(k, target)[target].index\n",
    "    cm = df[cols].corr()\n",
    "    plt.figure(figsize=(10,6))\n",
    "    return sns.heatmap(cm, annot=True, cmap = 'viridis')"
   ]
  },
  {
   "cell_type": "code",
   "execution_count": 26,
   "metadata": {},
   "outputs": [],
   "source": [
    "def fit_ols(x, y):\n",
    "    model = sm.OLS(y, x)\n",
    "    results = model.fit()\n",
    "    return results.summary()\n",
    "\n"
   ]
  },
  {
   "cell_type": "code",
   "execution_count": 27,
   "metadata": {},
   "outputs": [],
   "source": [
    " def generate_vif(df, target):\n",
    "    X_var = add_constant(df.loc[:, df.columns != target])\n",
    "    return pd.Series(\n",
    "        [variance_inflation_factor(X_var.values, i) for i in range(X_var.shape[1])],\n",
    "        index=X_var.columns)"
   ]
  },
  {
   "cell_type": "code",
   "execution_count": 28,
   "metadata": {},
   "outputs": [],
   "source": [
    "def generate_x_y_numeric_target(df, target):\n",
    "    numerical_feature_columns = list(df._get_numeric_data().columns)\n",
    "    X = df.loc[:, df.columns != target].values\n",
    "    Y = df.loc[:, df.columns == target].values\n",
    "    return numerical_feature_columns, X, Y"
   ]
  },
  {
   "cell_type": "code",
   "execution_count": 29,
   "metadata": {},
   "outputs": [],
   "source": [
    "df = pd.read_csv('inp_data.csv')"
   ]
  },
  {
   "cell_type": "code",
   "execution_count": 30,
   "metadata": {},
   "outputs": [
    {
     "data": {
      "text/html": [
       "<div>\n",
       "<style scoped>\n",
       "    .dataframe tbody tr th:only-of-type {\n",
       "        vertical-align: middle;\n",
       "    }\n",
       "\n",
       "    .dataframe tbody tr th {\n",
       "        vertical-align: top;\n",
       "    }\n",
       "\n",
       "    .dataframe thead th {\n",
       "        text-align: right;\n",
       "    }\n",
       "</style>\n",
       "<table border=\"1\" class=\"dataframe\">\n",
       "  <thead>\n",
       "    <tr style=\"text-align: right;\">\n",
       "      <th></th>\n",
       "      <th>x1</th>\n",
       "      <th>x2</th>\n",
       "      <th>x3</th>\n",
       "      <th>y</th>\n",
       "    </tr>\n",
       "  </thead>\n",
       "  <tbody>\n",
       "    <tr>\n",
       "      <td>0</td>\n",
       "      <td>100</td>\n",
       "      <td>110</td>\n",
       "      <td>40</td>\n",
       "      <td>3.9</td>\n",
       "    </tr>\n",
       "    <tr>\n",
       "      <td>1</td>\n",
       "      <td>95</td>\n",
       "      <td>110</td>\n",
       "      <td>40</td>\n",
       "      <td>2.6</td>\n",
       "    </tr>\n",
       "    <tr>\n",
       "      <td>2</td>\n",
       "      <td>90</td>\n",
       "      <td>120</td>\n",
       "      <td>30</td>\n",
       "      <td>2.7</td>\n",
       "    </tr>\n",
       "    <tr>\n",
       "      <td>3</td>\n",
       "      <td>85</td>\n",
       "      <td>110</td>\n",
       "      <td>40</td>\n",
       "      <td>3.0</td>\n",
       "    </tr>\n",
       "    <tr>\n",
       "      <td>4</td>\n",
       "      <td>80</td>\n",
       "      <td>100</td>\n",
       "      <td>20</td>\n",
       "      <td>2.4</td>\n",
       "    </tr>\n",
       "  </tbody>\n",
       "</table>\n",
       "</div>"
      ],
      "text/plain": [
       "    x1   x2  x3    y\n",
       "0  100  110  40  3.9\n",
       "1   95  110  40  2.6\n",
       "2   90  120  30  2.7\n",
       "3   85  110  40  3.0\n",
       "4   80  100  20  2.4"
      ]
     },
     "execution_count": 30,
     "metadata": {},
     "output_type": "execute_result"
    }
   ],
   "source": [
    "\n",
    "df.head()"
   ]
  },
  {
   "cell_type": "code",
   "execution_count": 31,
   "metadata": {},
   "outputs": [
    {
     "data": {
      "text/plain": [
       "<matplotlib.axes._subplots.AxesSubplot at 0x299c82fec88>"
      ]
     },
     "execution_count": 31,
     "metadata": {},
     "output_type": "execute_result"
    },
    {
     "data": {
      "image/png": "[encoded data removed]",
      "text/plain": [
       "<Figure size 720x432 with 2 Axes>"
      ]
     },
     "metadata": {
      "needs_background": "light"
     },
     "output_type": "display_data"
    }
   ],
   "source": [
    "target = 'y'\n",
    "numeric_cols, X, Y = generate_x_y_numeric_target(df, target)\n",
    "plot_correlation(df, numeric_cols, target, 5)"
   ]
  },
  {
   "cell_type": "code",
   "execution_count": 32,
   "metadata": {},
   "outputs": [
    {
     "name": "stdout",
     "output_type": "stream",
     "text": [
      "                                 OLS Regression Results                                \n",
      "=======================================================================================\n",
      "Dep. Variable:                      y   R-squared (uncentered):                   0.986\n",
      "Model:                            OLS   Adj. R-squared (uncentered):              0.981\n",
      "Method:                 Least Squares   F-statistic:                              169.8\n",
      "Date:                Thu, 30 Jul 2020   Prob (F-statistic):                    6.72e-07\n",
      "Time:                        12:04:14   Log-Likelihood:                         -1.9021\n",
      "No. Observations:                  10   AIC:                                      9.804\n",
      "Df Residuals:                       7   BIC:                                      10.71\n",
      "Df Model:                           3                                                  \n",
      "Covariance Type:            nonrobust                                                  \n",
      "==============================================================================\n",
      "                 coef    std err          t      P>|t|      [0.025      0.975]\n",
      "------------------------------------------------------------------------------\n",
      "x1             0.0405      0.012      3.420      0.011       0.012       0.068\n",
      "x2            -0.0093      0.009     -0.997      0.352      -0.031       0.013\n",
      "x3             0.0090      0.009      0.982      0.359      -0.013       0.031\n",
      "==============================================================================\n",
      "Omnibus:                        0.439   Durbin-Watson:                   2.500\n",
      "Prob(Omnibus):                  0.803   Jarque-Bera (JB):                0.131\n",
      "Skew:                          -0.234   Prob(JB):                        0.937\n",
      "Kurtosis:                       2.692   Cond. No.                         17.9\n",
      "==============================================================================\n",
      "\n",
      "Warnings:\n",
      "[1] Standard Errors assume that the covariance matrix of the errors is correctly specified.\n"
     ]
    }
   ],
   "source": [
    "print(fit_ols(X,Y))"
   ]
  },
  {
   "cell_type": "markdown",
   "metadata": {},
   "source": [
    "#### How to assess for multicollinearity from above summary"
   ]
  },
  {
   "cell_type": "markdown",
   "metadata": {},
   "source": [
    "1.Assess the coefficients. In the heatmap x1,x2,x3 have positive correlation with y. But when we look at the x2 coefficient, it is negative...we should not be the case. This indicates signs of multicollinearity in the dataset\n",
    "\n",
    "2.R2 value indicates how good fit the model is to the dataset.High R2 value is sign of Multicollinearity\n",
    "\n",
    "3.Prob(F statistic) value is highly significant as value is <0.05 When p value <0.05, we reject the null hypothesis. H0: the f statistic is not significant H1: It is significant\n",
    "\n",
    "So high significance indicates signs of multicollinearity\n",
    "\n",
    "4. Check individual p>|t| values of coefficients. We see x2, x3 are >0.05. hence we conclude p value is not significant compared to the coefficients\n",
    "5. If some features are heavily collinear with any other feature, then the std error for that feature will be greater then the combined std error of those features."
   ]
  },
  {
   "cell_type": "code",
   "execution_count": 33,
   "metadata": {},
   "outputs": [
    {
     "name": "stdout",
     "output_type": "stream",
     "text": [
      "const    135.871560\n",
      "x1         2.384174\n",
      "x2         5.027931\n",
      "x3         3.441157\n",
      "dtype: float64\n"
     ]
    }
   ],
   "source": [
    "print (generate_vif(df, target))"
   ]
  },
  {
   "cell_type": "markdown",
   "metadata": {},
   "source": [
    "### VIF >5 indicates Multicollinearity. X2 is slightly Multicollinear"
   ]
  },
  {
   "cell_type": "code",
   "execution_count": null,
   "metadata": {},
   "outputs": [],
   "source": []
  }
 ],
 "metadata": {
  "kernelspec": {
   "display_name": "Python 3",
   "language": "python",
   "name": "python3"
  },
  "language_info": {
   "codemirror_mode": {
    "name": "ipython",
    "version": 3
   },
   "file_extension": ".py",
   "mimetype": "text/x-python",
   "name": "python",
   "nbconvert_exporter": "python",
   "pygments_lexer": "ipython3",
   "version": "3.7.4"
  }
 },
 "nbformat": 4,
 "nbformat_minor": 2
}
